{
 "cells": [
  {
   "cell_type": "code",
   "execution_count": 1,
   "metadata": {},
   "outputs": [],
   "source": [
    "load(\"~/ma611-code/solid_angle.sage\") \n",
    "load(\"~/ma611-code/t_alpha_in_2d_and_3d.sage\") "
   ]
  },
  {
   "cell_type": "markdown",
   "metadata": {},
   "source": [
    "Example 1: We use the dot product formula to compute the solid angle of the cone spanned by the vectors [-2,0] and [-3,-3] in R^2. From our example, we expect 1/8 = 0.125."
   ]
  },
  {
   "cell_type": "code",
   "execution_count": 2,
   "metadata": {},
   "outputs": [
    {
     "data": {
      "text/plain": [
       "0.12500000000000003"
      ]
     },
     "execution_count": 2,
     "metadata": {},
     "output_type": "execute_result"
    }
   ],
   "source": [
    "solid_angle_2d(A=matrix([[-2,0],[-3,-3]]))"
   ]
  },
  {
   "cell_type": "markdown",
   "metadata": {},
   "source": [
    "Example 2: We use the arctan and arccos formulas for solid angles in R^3 to compute the solid angle of the cone spanned by vectors [1,0,0], [0,1,0], [0, 1, 0]. From our example, we expect 1/8 = 0.125."
   ]
  },
  {
   "cell_type": "code",
   "execution_count": 3,
   "metadata": {},
   "outputs": [
    {
     "data": {
      "text/plain": [
       "0.125"
      ]
     },
     "execution_count": 3,
     "metadata": {},
     "output_type": "execute_result"
    }
   ],
   "source": [
    "A=matrix([[1,0,0],[0,1,0],[0,0,1]])\n",
    "solid_angle_3d(A)"
   ]
  },
  {
   "cell_type": "markdown",
   "metadata": {},
   "source": [
    "Example 3: We can use either the arctan or arccos formulas to find the solid angle, as demonstrated below:"
   ]
  },
  {
   "cell_type": "code",
   "execution_count": 4,
   "metadata": {
    "scrolled": true
   },
   "outputs": [
    {
     "data": {
      "text/plain": [
       "0.1817687464348209"
      ]
     },
     "execution_count": 4,
     "metadata": {},
     "output_type": "execute_result"
    }
   ],
   "source": [
    "A = matrix([[1,0,2],[-1,3,1],[1,0,-1]])\n",
    "solid_angle_3d(A, method = \"arctan\")"
   ]
  },
  {
   "cell_type": "code",
   "execution_count": 5,
   "metadata": {},
   "outputs": [
    {
     "data": {
      "text/plain": [
       "0.18176874643482094"
      ]
     },
     "execution_count": 5,
     "metadata": {},
     "output_type": "execute_result"
    }
   ],
   "source": [
    "solid_angle_3d(A, method = \"arccos\")"
   ]
  },
  {
   "cell_type": "markdown",
   "metadata": {},
   "source": [
    "Example 4: When the cone is not simplicial, we can decompose it into simplicial subcones using triangulation in sagemath."
   ]
  },
  {
   "cell_type": "code",
   "execution_count": 6,
   "metadata": {},
   "outputs": [
    {
     "name": "stderr",
     "output_type": "stream",
     "text": [
      "INFO: Decompose into simplicial cones [[ 1  0  0]\n",
      "[-1  3  1]\n",
      "[ 1  0 -1], [-1  0  0]\n",
      "[-1  3  1]\n",
      "[ 1  0 -1]]\n",
      "INFO: Solid angles of the subcones are [0.09208963064104919, 0.20911856053373415]\n"
     ]
    },
    {
     "data": {
      "text/plain": [
       "0.30120819117478337"
      ]
     },
     "execution_count": 6,
     "metadata": {},
     "output_type": "execute_result"
    }
   ],
   "source": [
    "A = matrix([[1,0,0],[-1,0,0],[-1,3,1],[1,0,-1]])\n",
    "solid_angle_3d(A)"
   ]
  },
  {
   "cell_type": "markdown",
   "metadata": {},
   "source": [
    "What about in higher dimensions?"
   ]
  },
  {
   "cell_type": "markdown",
   "metadata": {},
   "source": [
    "We use our function for Ribando's series on the examples above:"
   ]
  },
  {
   "cell_type": "markdown",
   "metadata": {},
   "source": [
    "Example 1: Our expected answer is 0.125."
   ]
  },
  {
   "cell_type": "code",
   "execution_count": 7,
   "metadata": {},
   "outputs": [
    {
     "name": "stderr",
     "output_type": "stream",
     "text": [
      "INFO: Associated Matrix: [                1.0 -0.7071067811865476]\n",
      "[-0.7071067811865476  0.9999999999999998]\n",
      "INFO: Solid angle(s) of cones in Decomposition: [0.12500031973472642]\n"
     ]
    },
    {
     "data": {
      "text/plain": [
       "0.12500031973472642"
      ]
     },
     "execution_count": 7,
     "metadata": {},
     "output_type": "execute_result"
    }
   ],
   "source": [
    "solid_angle_general(A=matrix([[-2,0],[-3,-3]]))"
   ]
  },
  {
   "cell_type": "markdown",
   "metadata": {},
   "source": [
    "Example 2: Our expected answer is 0.125."
   ]
  },
  {
   "cell_type": "code",
   "execution_count": 8,
   "metadata": {},
   "outputs": [
    {
     "name": "stderr",
     "output_type": "stream",
     "text": [
      "INFO: Associated Matrix: [1.0 0.0 0.0]\n",
      "[0.0 1.0 0.0]\n",
      "[0.0 0.0 1.0]\n",
      "INFO: Solid angle(s) of cones in Decomposition: [0.12500000000000003]\n"
     ]
    },
    {
     "data": {
      "text/plain": [
       "0.12500000000000003"
      ]
     },
     "execution_count": 8,
     "metadata": {},
     "output_type": "execute_result"
    }
   ],
   "source": [
    "solid_angle_general([[1,0,0],[0,1,0],[0,0,1]])"
   ]
  },
  {
   "cell_type": "markdown",
   "metadata": {},
   "source": [
    "Example 3: Our expected answer is 0.1817687464348209."
   ]
  },
  {
   "cell_type": "code",
   "execution_count": 9,
   "metadata": {},
   "outputs": [
    {
     "name": "stderr",
     "output_type": "stream",
     "text": [
      "INFO: Associated Matrix: [                 1.0  -0.1348399724926484 -0.31622776601683794]\n",
      "[ -0.1348399724926484   1.0000000000000002 -0.42640143271122083]\n",
      "[-0.31622776601683794 -0.42640143271122083   0.9999999999999998]\n",
      "INFO: Solid angle(s) of cones in Decomposition: [0.18176823656192861]\n"
     ]
    },
    {
     "data": {
      "text/plain": [
       "0.18176823656192861"
      ]
     },
     "execution_count": 9,
     "metadata": {},
     "output_type": "execute_result"
    }
   ],
   "source": [
    "solid_angle_general(A = matrix([[1,0,2],[-1,3,1],[1,0,-1]]))"
   ]
  },
  {
   "cell_type": "markdown",
   "metadata": {},
   "source": [
    "Example 4: Our expected answer is 0.30120819117478337"
   ]
  },
  {
   "cell_type": "code",
   "execution_count": 10,
   "metadata": {},
   "outputs": [
    {
     "name": "stderr",
     "output_type": "stream",
     "text": [
      "INFO: Associated Matrix: [                 1.0  -0.3015113445777636  -0.7071067811865476]\n",
      "[ -0.3015113445777636   1.0000000000000002 -0.42640143271122083]\n",
      "[ -0.7071067811865476 -0.42640143271122083   0.9999999999999998]\n",
      "INFO: Associated Matrix: [                 1.0  -0.3015113445777636  -0.7071067811865476]\n",
      "[ -0.3015113445777636   1.0000000000000002 -0.42640143271122083]\n",
      "[ -0.7071067811865476 -0.42640143271122083   0.9999999999999998]\n",
      "INFO: Solid angle(s) of cones in Decomposition: [0.09208935485799725, 0.20911625135678455]\n"
     ]
    },
    {
     "data": {
      "text/plain": [
       "0.3012056062147818"
      ]
     },
     "execution_count": 10,
     "metadata": {},
     "output_type": "execute_result"
    }
   ],
   "source": [
    "A = matrix([[1,0,0],[-1,0,0],[-1,3,1],[1,0,-1]])\n",
    "solid_angle_general(A)"
   ]
  },
  {
   "cell_type": "markdown",
   "metadata": {},
   "source": [
    "One of the limitations of Ribando's formula is that it only works in the domain of convergence, i.e, when the associated matrix is positive definite. In contrast, the arctan and arccos formulas for solid angles in R^3 do not have this same issue."
   ]
  },
  {
   "cell_type": "markdown",
   "metadata": {},
   "source": [
    "Below, we see an example where the associated matrix is not positive definite, and so Ribando's series does not converge."
   ]
  },
  {
   "cell_type": "code",
   "execution_count": 11,
   "metadata": {},
   "outputs": [
    {
     "name": "stderr",
     "output_type": "stream",
     "text": [
      "INFO: Associated Matrix: [ 0.9999999999999998 -0.2886751345948129 -0.7071067811865476]\n",
      "[-0.2886751345948129  0.9999999999999998 -0.8164965809277261]\n",
      "[-0.7071067811865476 -0.8164965809277261                 1.0]\n"
     ]
    },
    {
     "data": {
      "text/plain": [
       "False"
      ]
     },
     "execution_count": 11,
     "metadata": {},
     "output_type": "execute_result"
    }
   ],
   "source": [
    "A = matrix([[1,-1,0],[2,1,1],[-1,0,0]])\n",
    "M_alpha_posdef(A)"
   ]
  },
  {
   "cell_type": "markdown",
   "metadata": {},
   "source": [
    "However, for the example above, we can still obtain the solid angle measure by using the arctan formula:"
   ]
  },
  {
   "cell_type": "code",
   "execution_count": 12,
   "metadata": {},
   "outputs": [
    {
     "data": {
      "text/plain": [
       "0.3587200612139267"
      ]
     },
     "execution_count": 12,
     "metadata": {},
     "output_type": "execute_result"
    }
   ],
   "source": [
    "A = matrix([[1,-1,0],[2,1,1],[-1,0,0]])\n",
    "solid_angle_3d(A) "
   ]
  },
  {
   "cell_type": "code",
   "execution_count": null,
   "metadata": {},
   "outputs": [],
   "source": []
  }
 ],
 "metadata": {
  "kernelspec": {
   "display_name": "SageMath 9.3.beta6",
   "language": "sage",
   "name": "sagemath"
  },
  "language_info": {
   "codemirror_mode": {
    "name": "ipython",
    "version": 3
   },
   "file_extension": ".py",
   "mimetype": "text/x-python",
   "name": "python",
   "nbconvert_exporter": "python",
   "pygments_lexer": "ipython3",
   "version": "3.9.1"
  }
 },
 "nbformat": 4,
 "nbformat_minor": 4
}
