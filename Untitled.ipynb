{
 "cells": [
  {
   "cell_type": "code",
   "execution_count": null,
   "metadata": {},
   "outputs": [],
   "source": [
    "load(\"~/ma611-code/solid_angle.sage\") \n",
    "load(\"~/ma611-code/t_alpha_in_2d_and_3d.sage\") "
   ]
  },
  {
   "cell_type": "markdown",
   "metadata": {},
   "source": [
    "Example 1: We use the dot product formula to compute the solid angle of the cone spanned by the vectors [-2,0] and [-3,-3] in R^2. From our example, we expect 1/8 = 0.125."
   ]
  },
  {
   "cell_type": "code",
   "execution_count": null,
   "metadata": {},
   "outputs": [],
   "source": [
    "solid_angle_2d(A=matrix([[-2,0],[-3,-3]]))"
   ]
  },
  {
   "cell_type": "markdown",
   "metadata": {},
   "source": [
    "Example 2: We use the arctan and arccos formulas for solid angles in R^3 to compute the solid angle of the cone spanned by vectors [1,0,0], [0,1,0], [0, 1, 0]. From our example, we expect 1/8 = 0.125."
   ]
  },
  {
   "cell_type": "code",
   "execution_count": null,
   "metadata": {},
   "outputs": [],
   "source": [
    "A=matrix([[1,0,0],[0,1,0],[0,0,1]])\n",
    "solid_angle_3d(A)"
   ]
  },
  {
   "cell_type": "markdown",
   "metadata": {},
   "source": [
    "Example 3: We can use either the arctan or arccos formulas to find the solid angle, as demonstrated below:"
   ]
  },
  {
   "cell_type": "code",
   "execution_count": null,
   "metadata": {},
   "outputs": [],
   "source": [
    "A = matrix([[1,0,2],[-1,3,1],[1,0,-1]])\n",
    "solid_angle_3d(A, method = \"arctan\")\n",
    "solid_angle_3d(A, method = \"arccos\")"
   ]
  },
  {
   "cell_type": "markdown",
   "metadata": {},
   "source": [
    "Example 4: When the cone is not simplicial, we can decompose it into simplicial subcones using triangulation in sagemath."
   ]
  },
  {
   "cell_type": "code",
   "execution_count": null,
   "metadata": {},
   "outputs": [],
   "source": [
    "A = matrix([[1,0,0],[-1,0,0],[-1,3,1],[1,0,-1]])\n",
    "solid_angle_3d(A)"
   ]
  },
  {
   "cell_type": "markdown",
   "metadata": {},
   "source": [
    "We use our function for Ribando's series on the examples above:"
   ]
  },
  {
   "cell_type": "markdown",
   "metadata": {},
   "source": [
    "Example 1: Our expected answer is 0.125."
   ]
  },
  {
   "cell_type": "code",
   "execution_count": null,
   "metadata": {},
   "outputs": [],
   "source": [
    "solid_angle_general(A=matrix([[-2,0],[-3,-3]]))"
   ]
  },
  {
   "cell_type": "markdown",
   "metadata": {},
   "source": [
    "Example 2: Our expected answer is 0.125."
   ]
  },
  {
   "cell_type": "code",
   "execution_count": null,
   "metadata": {},
   "outputs": [],
   "source": [
    "solid_angle_general([[1,0,0],[0,1,0],[0,0,1]])"
   ]
  },
  {
   "cell_type": "markdown",
   "metadata": {},
   "source": [
    "Example 3: Our expected answer is 0.1817687464348209."
   ]
  },
  {
   "cell_type": "code",
   "execution_count": null,
   "metadata": {},
   "outputs": [],
   "source": [
    "solid_angle_general(A = matrix([[1,0,2],[-1,3,1],[1,0,-1]]))"
   ]
  },
  {
   "cell_type": "markdown",
   "metadata": {},
   "source": [
    "Example 4: Our expected answer is 0.30120819117478337"
   ]
  },
  {
   "cell_type": "code",
   "execution_count": null,
   "metadata": {},
   "outputs": [],
   "source": [
    "A = matrix([[1,0,0],[-1,0,0],[-1,3,1],[1,0,-1]])\n",
    "solid_angle_general(A)"
   ]
  },
  {
   "cell_type": "markdown",
   "metadata": {},
   "source": [
    "One of the limitations of Ribando's formula is that it only works in the domain of convergence, i.e, when the associated matrix is positive definite. In contrast, the arctan and arccos formulas for solid angles in R^3 do not have this same issue."
   ]
  },
  {
   "cell_type": "markdown",
   "metadata": {},
   "source": [
    "Below, we see an example where the associated matrix is not positive definite, and so Ribando's series does not converge."
   ]
  },
  {
   "cell_type": "code",
   "execution_count": null,
   "metadata": {},
   "outputs": [],
   "source": [
    "A = matrix([[1,-1,0],[2,1,1],[-1,0,0]])\n",
    "M_alpha_posdef(A)"
   ]
  },
  {
   "cell_type": "markdown",
   "metadata": {},
   "source": [
    "However, for the example above, we can still obtain the solid angle measure by using the arctan formula:"
   ]
  },
  {
   "cell_type": "code",
   "execution_count": null,
   "metadata": {},
   "outputs": [],
   "source": [
    "A = matrix([[1,-1,0],[2,1,1],[-1,0,0]])\n",
    "solid_angle_3d(A) "
   ]
  }
 ],
 "metadata": {
  "kernelspec": {
   "display_name": "SageMath 9.3.beta6",
   "language": "sage",
   "name": "sagemath"
  },
  "language_info": {
   "codemirror_mode": {
    "name": "ipython",
    "version": 3
   },
   "file_extension": ".py",
   "mimetype": "text/x-python",
   "name": "python",
   "nbconvert_exporter": "python",
   "pygments_lexer": "ipython3",
   "version": "3.9.1"
  }
 },
 "nbformat": 4,
 "nbformat_minor": 4
}
